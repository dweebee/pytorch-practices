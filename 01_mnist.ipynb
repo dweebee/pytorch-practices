{
  "nbformat": 4,
  "nbformat_minor": 0,
  "metadata": {
    "colab": {
      "provenance": [],
      "authorship_tag": "ABX9TyPI1r3wBotto3sLdoICBvEJ",
      "include_colab_link": true
    },
    "kernelspec": {
      "name": "python3",
      "display_name": "Python 3"
    },
    "language_info": {
      "name": "python"
    }
  },
  "cells": [
    {
      "cell_type": "markdown",
      "metadata": {
        "id": "view-in-github",
        "colab_type": "text"
      },
      "source": [
        "<a href=\"https://colab.research.google.com/github/dweebee/pytorch-practices/blob/main/01_mnist.ipynb\" target=\"_parent\"><img src=\"https://colab.research.google.com/assets/colab-badge.svg\" alt=\"Open In Colab\"/></a>"
      ]
    },
    {
      "cell_type": "markdown",
      "source": [],
      "metadata": {
        "id": "SNKadHxOL6Hn"
      }
    },
    {
      "cell_type": "code",
      "execution_count": null,
      "metadata": {
        "id": "iSDEaWWwL0-A",
        "colab": {
          "base_uri": "https://localhost:8080/"
        },
        "outputId": "a9232de0-0bba-4165-d9d6-f603d277a63e"
      },
      "outputs": [
        {
          "output_type": "stream",
          "name": "stderr",
          "text": [
            "100%|██████████| 26.4M/26.4M [00:03<00:00, 8.31MB/s]\n",
            "100%|██████████| 29.5k/29.5k [00:00<00:00, 135kB/s]\n",
            "100%|██████████| 4.42M/4.42M [00:01<00:00, 2.56MB/s]\n",
            "100%|██████████| 5.15k/5.15k [00:00<00:00, 22.9MB/s]\n"
          ]
        }
      ],
      "source": [
        "from torchvision.datasets import FashionMNIST\n",
        "\n",
        "fm_train = FashionMNIST(root=\"./data\", train=True, download=True)\n",
        "fm_test = FashionMNIST(root=\"./data\", train=False, download=True)\n",
        "\n",
        "train_input = fm_train.data\n",
        "train_target = fm_train.targets\n",
        "train_scaled = train_input / 255.0\n",
        "\n",
        "from sklearn.model_selection import train_test_split\n",
        "train_scaled, val_scaled, train_target, val_target = train_test_split(\n",
        "    train_scaled, train_target, test_size=0.2, random_state=42\n",
        ")"
      ]
    },
    {
      "cell_type": "code",
      "source": [
        "import torch.nn as nn\n",
        "\n",
        "model = nn.Sequential(\n",
        "    nn.Flatten(),\n",
        "    nn.Linear(784, 100),\n",
        "    nn.ReLU(),\n",
        "    nn.Dropout(0.3),\n",
        "    nn.Linear(100, 10)\n",
        ")\n",
        "\n",
        "import torch\n",
        "\n",
        "device = torch.device(\"cuda\" if torch.cuda.is_available() else \"cpu\")\n",
        "model.to(device)"
      ],
      "metadata": {
        "id": "CNOmFkEkL7L1",
        "colab": {
          "base_uri": "https://localhost:8080/"
        },
        "outputId": "eb44a148-a977-437b-b460-b348b46c0e9d"
      },
      "execution_count": null,
      "outputs": [
        {
          "output_type": "execute_result",
          "data": {
            "text/plain": [
              "Sequential(\n",
              "  (0): Flatten(start_dim=1, end_dim=-1)\n",
              "  (1): Linear(in_features=784, out_features=100, bias=True)\n",
              "  (2): ReLU()\n",
              "  (3): Dropout(p=0.3, inplace=False)\n",
              "  (4): Linear(in_features=100, out_features=10, bias=True)\n",
              ")"
            ]
          },
          "metadata": {},
          "execution_count": 2
        }
      ]
    },
    {
      "cell_type": "code",
      "source": [
        "import torch.optim as optim\n",
        "\n",
        "criterion = nn.CrossEntropyLoss()\n",
        "optimizer = optim.Adam(model.parameters())"
      ],
      "metadata": {
        "id": "GdlCK49-0T4v"
      },
      "execution_count": null,
      "outputs": []
    },
    {
      "cell_type": "code",
      "source": [
        "train_hist = []\n",
        "val_hist = []\n",
        "patience = 2\n",
        "best_loss = -1\n",
        "early_stopping_counter = 0"
      ],
      "metadata": {
        "id": "Acjdm-NY0Xo9"
      },
      "execution_count": null,
      "outputs": []
    },
    {
      "cell_type": "code",
      "source": [
        "epochs = 20\n",
        "batches = int(len(train_scaled)/32)\n",
        "for epoch in range(epochs):\n",
        "    # [1]학습\n",
        "    model.train()\n",
        "    train_loss = 0\n",
        "    for i in range(batches):\n",
        "        inputs = train_scaled[i*32:(i+1)*32].to(device)\n",
        "        targets = train_target[i*32:(i+1)*32].to(device)\n",
        "        optimizer.zero_grad()\n",
        "\n",
        "        # 순전파 - 손실계산 - 역전파 - 가중치 업뎃\n",
        "        outputs = model(inputs)\n",
        "        loss = criterion(outputs, targets)\n",
        "        loss.backward()\n",
        "        optimizer.step()\n",
        "\n",
        "        train_loss += loss.item()\n",
        "\n",
        "    # [2]평가\n",
        "    model.eval() # dropout, batchnorm 비활성화\n",
        "    val_loss = 0\n",
        "    with torch.no_grad(): # 그래디언트 계산 비활성화 → 메모리 절약\n",
        "        val_scaled = val_scaled.to(device)\n",
        "        val_target = val_target.to(device)\n",
        "        val_outputs = model(val_scaled)\n",
        "        val_loss = criterion(val_outputs, val_target)\n",
        "        val_loss = val_loss.item()\n",
        "\n",
        "    train_hist.append(train_loss/batches)\n",
        "    val_hist.append(val_loss)\n",
        "    print(f\"Epoch {epoch+1}/{epochs}, Train Loss: {train_loss/batches:.4f}, Val Loss: {val_loss:.4f}\")\n",
        "\n",
        "    # [3]조기종료\n",
        "    if best_loss == -1 or val_loss < best_loss: # best_loss보다 좋으면 모델 저장\n",
        "        best_loss = val_loss\n",
        "        early_stopping_counter = 0\n",
        "        torch.save(model.state_dict(), \"best_model.pt\")\n",
        "    else:\n",
        "        early_stopping_counter += 1\n",
        "\n",
        "    if early_stopping_counter >= patience: # patience만큼 개선되지 않으면 조기 종료\n",
        "        print(f\"{epoch+1}번째 에포크에서 조기 종료되었습니다.\")\n",
        "        break"
      ],
      "metadata": {
        "colab": {
          "base_uri": "https://localhost:8080/"
        },
        "id": "D3QZqMPC0eUB",
        "outputId": "70c0ba66-79ef-4356-f132-985335887d8d"
      },
      "execution_count": null,
      "outputs": [
        {
          "output_type": "stream",
          "name": "stdout",
          "text": [
            "Epoch 1/20, Train Loss: 0.2243, Val Loss: 0.3651\n",
            "Epoch 2/20, Train Loss: 0.2230, Val Loss: 0.3627\n",
            "Epoch 3/20, Train Loss: 0.2213, Val Loss: 0.3641\n",
            "Epoch 4/20, Train Loss: 0.2234, Val Loss: 0.3570\n",
            "Epoch 5/20, Train Loss: 0.2198, Val Loss: 0.3761\n",
            "Epoch 6/20, Train Loss: 0.2174, Val Loss: 0.3777\n",
            "6번째 에포크에서 조기 종료되었습니다.\n"
          ]
        }
      ]
    },
    {
      "cell_type": "markdown",
      "source": [
        "- 한 에포크마다: 미니배치 학습, 검증loss계산, best_model.pt저장, 조기종료 조건검사"
      ],
      "metadata": {
        "id": "7DLNAgS14Lon"
      }
    },
    {
      "cell_type": "code",
      "source": [
        "import matplotlib.pyplot as plt\n",
        "\n",
        "plt.plot(train_hist, label=\"Train Loss\")\n",
        "plt.plot(val_hist, label=\"Validation Loss\")\n",
        "plt.xlabel(\"Epoch\")\n",
        "plt.ylabel(\"Loss\")\n",
        "plt.legend()\n",
        "plt.show()"
      ],
      "metadata": {
        "colab": {
          "base_uri": "https://localhost:8080/",
          "height": 449
        },
        "id": "Qx_z0_ty1kMF",
        "outputId": "06f276c6-82d7-4a8d-8b8d-1f40396bc9b6"
      },
      "execution_count": null,
      "outputs": [
        {
          "output_type": "display_data",
          "data": {
            "text/plain": [
              "<Figure size 640x480 with 1 Axes>"
            ],
            "image/png": "[encoded data removed]"
          },
          "metadata": {}
        }
      ]
    },
    {
      "cell_type": "code",
      "source": [],
      "metadata": {
        "id": "KYT2-rNU2Auy"
      },
      "execution_count": null,
      "outputs": []
    }
  ]
}